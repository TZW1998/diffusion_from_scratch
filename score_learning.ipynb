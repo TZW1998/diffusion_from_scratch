{
 "cells": [
  {
   "cell_type": "code",
   "execution_count": 1,
   "metadata": {},
   "outputs": [],
   "source": [
    "import torch\n",
    "from torch import nn\n",
    "import matplotlib.pyplot as plt\n",
    "import numpy as np\n",
    "import torch.nn.functional as F\n",
    "from copy import deepcopy"
   ]
  },
  {
   "cell_type": "markdown",
   "metadata": {},
   "source": [
    "# define the data, 2-D sphere"
   ]
  },
  {
   "cell_type": "code",
   "execution_count": 2,
   "metadata": {},
   "outputs": [],
   "source": [
    "sample_size = 10000\n",
    "data_dim = 2\n",
    "train_data = torch.randn(sample_size,data_dim)\n",
    "train_data /= torch.norm(train_data,dim=1).reshape(-1,1)"
   ]
  },
  {
   "cell_type": "markdown",
   "metadata": {},
   "source": [
    "# visualization (if data_dim=2)"
   ]
  },
  {
   "cell_type": "code",
   "execution_count": 3,
   "metadata": {},
   "outputs": [
    {
     "data": {
      "text/plain": [
       "<matplotlib.collections.PathCollection at 0x7f2a9a1630d0>"
      ]
     },
     "execution_count": 3,
     "metadata": {},
     "output_type": "execute_result"
    },
    {
     "data": {
      "image/png": "[encoded data removed]",
      "text/plain": [
       "<Figure size 432x288 with 1 Axes>"
      ]
     },
     "metadata": {
      "needs_background": "light"
     },
     "output_type": "display_data"
    }
   ],
   "source": [
    "plt.scatter(train_data[:,0],train_data[:,1])"
   ]
  },
  {
   "cell_type": "markdown",
   "metadata": {},
   "source": [
    "# define the MLP"
   ]
  },
  {
   "cell_type": "code",
   "execution_count": 3,
   "metadata": {},
   "outputs": [],
   "source": [
    "class Net(nn.Module):\n",
    "    \n",
    "    def __init__(self, dim):\n",
    "        super(Net, self).__init__()\n",
    "        # First fully connected layer\n",
    "        self.dim = dim\n",
    "        self.fc1 = nn.Linear(dim, 2048)\n",
    "        # Second fully connected layer that outputs our 10 labels\n",
    "        self.fc2 = nn.Linear(2048, 2048)\n",
    "        self.fc3 = nn.Linear(2048, 11)\n",
    "        \n",
    "    def forward(self, x):\n",
    "        out = self.fc1(x * 20)\n",
    "        out = torch.relu(out)\n",
    "        out = self.fc2(out)\n",
    "        out = torch.relu(out)\n",
    "        out = self.fc3(out)\n",
    "        # out = torch.sigmoid(self.fc3(out))\n",
    "\n",
    "        return out"
   ]
  },
  {
   "cell_type": "markdown",
   "metadata": {},
   "source": [
    "# define the stochastic noise level prediction loss"
   ]
  },
  {
   "cell_type": "code",
   "execution_count": 4,
   "metadata": {},
   "outputs": [],
   "source": [
    "def noise_level_prediction_loss(net, batch_data):\n",
    "    batch_len = len(batch_data)\n",
    "    # noisy_levels = torch.randn(batch_len).view(-1,1).cuda()\n",
    "    noisy_levels = torch.randint(11,size=(batch_len,1)).cuda()\n",
    "    noisy_data = batch_data * (1 - noisy_levels / 10) + noisy_levels * torch.randn(batch_data.shape).cuda() / 100\n",
    "    predicted_nl = net(noisy_data)\n",
    "    loss  = nn.CrossEntropyLoss()(predicted_nl, noisy_levels.flatten())\n",
    "    acc = torch.sum(predicted_nl.detach().argmax(1) == noisy_levels.flatten())\n",
    "    return loss, acc"
   ]
  },
  {
   "cell_type": "markdown",
   "metadata": {},
   "source": [
    "# training"
   ]
  },
  {
   "cell_type": "code",
   "execution_count": 6,
   "metadata": {},
   "outputs": [],
   "source": [
    "def index_iterator(data_len, batch_size, shuffle=True):\n",
    "    if shuffle:\n",
    "        indices = np.random.permutation(data_len)\n",
    "    else:\n",
    "        indices = np.arange(data_len)\n",
    "    for i in range(0, data_len, batch_size):\n",
    "        yield indices[i:i+batch_size]"
   ]
  },
  {
   "cell_type": "code",
   "execution_count": 7,
   "metadata": {},
   "outputs": [
    {
     "name": "stdout",
     "output_type": "stream",
     "text": [
      "0 2.8589562623977662 0.1807\n",
      "10 0.8277865978240967 0.6545\n",
      "20 0.7365944885253907 0.676\n",
      "30 0.7895154090881348 0.6441\n",
      "40 0.7108736293792725 0.6754\n",
      "50 0.702877703666687 0.6763\n",
      "60 0.7515313135147095 0.6583\n",
      "70 0.7652496879577637 0.6567\n",
      "80 0.6955802509307861 0.683\n",
      "90 0.7010518168449402 0.6786\n",
      "100 0.6999909655094146 0.6798\n",
      "110 0.6955687398910523 0.6857\n",
      "120 0.7002690740585327 0.6789\n",
      "130 0.6802565028190612 0.6822\n",
      "140 0.697763857460022 0.6853\n",
      "150 0.7071735349655152 0.675\n",
      "160 0.7276791187286377 0.6749\n",
      "170 0.691724429512024 0.688\n",
      "180 0.6988310907363892 0.6816\n",
      "190 0.7355046422958375 0.6629\n",
      "200 0.6773367650032044 0.687\n",
      "210 0.6796583939552308 0.6854\n",
      "220 0.7059570995330811 0.6761\n",
      "230 0.7036514831542968 0.6735\n",
      "240 0.6801526556015015 0.6832\n",
      "250 0.6870307175636291 0.6844\n",
      "260 0.6992272094726563 0.6803\n",
      "270 0.6952122301101684 0.683\n",
      "280 0.6828307343482971 0.6845\n",
      "290 0.6971603931427002 0.6812\n",
      "300 0.7002731653213501 0.6871\n",
      "310 0.6917203904151916 0.6822\n",
      "320 0.6771594575881958 0.6913\n",
      "330 0.6721775111198425 0.6911\n",
      "340 0.6820240291595459 0.6942\n",
      "350 0.6795839632034302 0.6848\n",
      "360 0.683845050239563 0.6874\n",
      "370 0.6740188018798828 0.697\n",
      "380 0.6947393587112427 0.6815\n",
      "390 0.6972477880001068 0.6842\n",
      "400 0.6802494814872742 0.6927\n",
      "410 0.6893534000396728 0.6815\n",
      "420 0.6973601776123047 0.6809\n",
      "430 0.6986557493209838 0.6857\n",
      "440 0.6661589402198792 0.6928\n",
      "450 0.691558277130127 0.6847\n",
      "460 0.6773841041564942 0.6868\n",
      "470 0.6848947540283203 0.6898\n",
      "480 0.6970017807006836 0.6883\n",
      "490 0.6903580967903137 0.6828\n",
      "500 0.6826044142723083 0.6993\n",
      "510 0.6779898453712463 0.6917\n",
      "520 0.6924165891647339 0.683\n",
      "530 0.6651069142341614 0.6983\n",
      "540 0.6850025142669678 0.6897\n",
      "550 0.678117685508728 0.6815\n",
      "560 0.6902008855819702 0.6785\n",
      "570 0.6827251508712768 0.6844\n",
      "580 0.6720513012886047 0.6956\n",
      "590 0.7152664684295654 0.6788\n",
      "600 0.6869616815567017 0.6884\n",
      "610 0.6921010599136352 0.6826\n",
      "620 0.69027006483078 0.6835\n",
      "630 0.6781332440376282 0.6927\n",
      "640 0.6889706839561462 0.6866\n",
      "650 0.6732797010421753 0.6925\n",
      "660 0.6769060057640076 0.6938\n",
      "670 0.677033072757721 0.6899\n",
      "680 0.683390503692627 0.6919\n",
      "690 0.7004730096817017 0.6833\n",
      "700 0.683344948387146 0.6885\n",
      "710 0.6778610528945923 0.6906\n",
      "720 0.673337358379364 0.694\n",
      "730 0.6753905596733093 0.687\n",
      "740 0.6802704597473145 0.6938\n",
      "750 0.6786395270347595 0.693\n",
      "760 0.6711287602424622 0.6949\n",
      "770 0.6818443614959717 0.6857\n",
      "780 0.6789789963722229 0.6944\n",
      "790 0.682808263683319 0.6872\n",
      "800 0.6707546382904053 0.694\n",
      "810 0.6924845266342163 0.6861\n",
      "820 0.6780552894592285 0.6867\n",
      "830 0.6655030026435852 0.6931\n",
      "840 0.6912627383232117 0.6819\n",
      "850 0.681019211101532 0.6898\n",
      "860 0.6941269844055176 0.6806\n",
      "870 0.677575969028473 0.6936\n",
      "880 0.6924621924400329 0.6915\n",
      "890 0.6819963448524475 0.6863\n",
      "900 0.6807550644874573 0.6897\n",
      "910 0.6620629661560059 0.693\n",
      "920 0.6897270047187806 0.6851\n",
      "930 0.6884795786857605 0.6814\n",
      "940 0.6906131350517273 0.6936\n",
      "950 0.684592090511322 0.6879\n",
      "960 0.6683533826351166 0.6963\n",
      "970 0.6765875644683838 0.6918\n",
      "980 0.6638055763721467 0.7005\n",
      "990 0.6853560242652893 0.6908\n"
     ]
    }
   ],
   "source": [
    "EPOCH = 1000\n",
    "\n",
    "lr=0.001\n",
    "batch_size = 128\n",
    "\n",
    "model = Net(data_dim).cuda()\n",
    "train_data = train_data.cuda()\n",
    "optimizer = torch.optim.Adam(model.parameters(), lr=lr)\n",
    "\n",
    "for epoch in range(EPOCH):\n",
    "    avg_loss = 0\n",
    "    totals = 0\n",
    "    avg_acc = 0\n",
    "    for batch_idx in index_iterator(len(train_data), batch_size):\n",
    "        optimizer.zero_grad()\n",
    "        loss, acc = noise_level_prediction_loss(model, train_data[batch_idx])\n",
    "        loss.backward()\n",
    "        optimizer.step()\n",
    "        totals += len(batch_idx)\n",
    "        avg_loss += loss.item() * len(batch_idx)\n",
    "        avg_acc += acc.item()\n",
    "    if epoch % 10 == 0:\n",
    "        print(epoch, avg_loss / totals, avg_acc/totals)"
   ]
  },
  {
   "cell_type": "markdown",
   "metadata": {},
   "source": [
    "# sampling\n"
   ]
  },
  {
   "cell_type": "code",
   "execution_count": 38,
   "metadata": {},
   "outputs": [
    {
     "name": "stdout",
     "output_type": "stream",
     "text": [
      "134.35043334960938 1.99277925491333\n",
      "-556.4611206054688 9.125346183776855\n",
      "-4416.927734375 21.658945083618164\n",
      "-11183.4248046875 39.58514404296875\n",
      "-20859.779296875 62.90753173828125\n",
      "-33452.19921875 91.6277847290039\n",
      "-48962.328125 125.7479248046875\n",
      "-67400.328125 165.27059936523438\n",
      "-88778.5234375 210.19947814941406\n",
      "-113096.15625 260.53802490234375\n",
      "-140361.921875 316.2894592285156\n",
      "-170575.171875 377.4567565917969\n",
      "-203741.65625 444.04254150390625\n",
      "-239858.3125 516.049072265625\n",
      "-278929.65625 593.478271484375\n",
      "-320952.125 676.3317260742188\n",
      "-365927.3125 764.6107788085938\n",
      "-413858.09375 858.3165283203125\n",
      "-464747.3125 957.4502563476562\n",
      "-518597.59375 1062.01318359375\n",
      "-575404.125 1172.006103515625\n",
      "-635168.1875 1287.4300537109375\n",
      "-697889.375 1408.2857666015625\n",
      "-763570.1875 1534.5738525390625\n",
      "-832221.5 1666.295166015625\n",
      "-903841.0625 1803.45068359375\n",
      "-978418.0 1946.041015625\n",
      "-1055950.75 2094.066650390625\n",
      "-1136440.875 2247.528076171875\n",
      "-1219890.25 2406.42578125\n",
      "-1306312.375 2570.76025390625\n",
      "-1395697.25 2740.531982421875\n",
      "-1488049.375 2915.741455078125\n",
      "-1583367.125 3096.388916015625\n",
      "-1681661.75 3282.47509765625\n",
      "-1782921.75 3474.000244140625\n",
      "-1887141.0 3670.96484375\n",
      "-1994325.0 3873.369384765625\n",
      "-2104482.5 4081.2138671875\n",
      "-2217606.0 4294.49951171875\n",
      "-2333695.25 4513.2255859375\n",
      "-2452773.5 4737.39306640625\n",
      "-2574822.75 4967.00244140625\n",
      "-2699841.25 5202.0537109375\n",
      "-2827829.25 5442.54833984375\n",
      "-2958786.5 5688.4853515625\n",
      "-3092712.5 5939.86572265625\n",
      "-3229623.75 6196.68994140625\n",
      "-3369517.75 6458.9580078125\n",
      "-3512394.0 6726.67041015625\n",
      "-3658263.25 6999.828125\n",
      "-3807110.0 7278.43115234375\n",
      "-3958935.75 7562.47998046875\n",
      "-4113739.25 7851.974609375\n",
      "-4271524.5 8146.91650390625\n",
      "-4432284.0 8447.3056640625\n",
      "-4596036.0 8753.142578125\n",
      "-4762763.5 9064.4267578125\n",
      "-4932468.5 9381.16015625\n",
      "-5105151.5 9703.341796875\n",
      "-5280813.5 10030.97265625\n",
      "-5459481.5 10364.052734375\n",
      "-5641131.0 10702.58203125\n",
      "-5825765.0 11046.5625\n",
      "-6013386.5 11395.9931640625\n",
      "-6203990.0 11750.875\n",
      "-6397576.5 12111.208984375\n",
      "-6594145.5 12476.9931640625\n",
      "-6793694.5 12848.2294921875\n",
      "-6996219.0 13224.9189453125\n",
      "-7201725.5 13607.0595703125\n",
      "-7410213.0 13994.654296875\n",
      "-7621683.0 14387.701171875\n",
      "-7836159.5 14786.201171875\n",
      "-8053639.5 15190.1552734375\n",
      "-8274124.5 15599.564453125\n",
      "-8497603.0 16014.42578125\n",
      "-8724065.0 16434.744140625\n",
      "-8953513.0 16860.517578125\n",
      "-9185948.0 17291.744140625\n",
      "-9421377.0 17728.427734375\n",
      "-9659798.0 18170.56640625\n",
      "-9901205.0 18618.162109375\n",
      "-10145604.0 19071.212890625\n",
      "-10393026.0 19529.72265625\n",
      "-10643436.0 19993.689453125\n",
      "-10896855.0 20463.111328125\n",
      "-11153296.0 20937.9921875\n",
      "-11412731.0 21418.33203125\n",
      "-11675162.0 21904.130859375\n",
      "-11940583.0 22395.38671875\n",
      "-12208998.0 22892.103515625\n",
      "-12480407.0 23394.27734375\n",
      "-12754812.0 23901.912109375\n",
      "-13032214.0 24415.009765625\n",
      "-13312613.0 24933.56640625\n",
      "-13596006.0 25457.58203125\n",
      "-13882390.0 25987.060546875\n",
      "-14171791.0 26522.0\n",
      "-14464191.0 27062.400390625\n"
     ]
    }
   ],
   "source": [
    "model.requires_grad = False\n",
    "lr = 0.01\n",
    "sample_point = torch.randn(1,data_dim).cuda() / 10\n",
    "sample_point.requires_grad = True\n",
    "\n",
    "for _ in range(100):\n",
    "    class_loss =  - model(sample_point)[0][0]\n",
    "    class_loss.backward()\n",
    "\n",
    "    sample_point.data = sample_point.data  - lr * sample_point.grad.data \n",
    "    sample_point.requires_grad = True\n",
    "    print(class_loss.item(),torch.norm(sample_point).item())"
   ]
  }
 ],
 "metadata": {
  "kernelspec": {
   "display_name": "diffusion",
   "language": "python",
   "name": "diffusion"
  },
  "language_info": {
   "codemirror_mode": {
    "name": "ipython",
    "version": 3
   },
   "file_extension": ".py",
   "mimetype": "text/x-python",
   "name": "python",
   "nbconvert_exporter": "python",
   "pygments_lexer": "ipython3",
   "version": "3.9.12"
  }
 },
 "nbformat": 4,
 "nbformat_minor": 4
}

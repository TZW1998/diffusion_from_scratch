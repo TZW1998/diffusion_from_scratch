{
 "cells": [
  {
   "cell_type": "code",
   "execution_count": 2,
   "metadata": {},
   "outputs": [],
   "source": [
    "import pandas as pd\n",
    "import numpy as np\n",
    "import functools\n",
    "import torch\n",
    "import torch.nn as nn\n",
    "from torch.optim import Adam\n",
    "from torch.utils.data import DataLoader\n",
    "import os\n",
    "import matplotlib.pyplot as plt\n",
    "from tqdm import tqdm"
   ]
  },
  {
   "attachments": {},
   "cell_type": "markdown",
   "metadata": {},
   "source": [
    "# simple conditional diffusion\n",
    "\n",
    "Now we fit a conditional distribution on a simple distribution: $p(x|r)\\sim Uni(r\\cdot S_d)$, i.e, uniform distribution of a $d$-dimension circle with radius $r$."
   ]
  },
  {
   "attachments": {},
   "cell_type": "markdown",
   "metadata": {},
   "source": [
    "# prepare dataset"
   ]
  },
  {
   "cell_type": "code",
   "execution_count": 3,
   "metadata": {},
   "outputs": [],
   "source": [
    "# read data\n",
    "sample_size = 10000\n",
    "r = np.random.rand(sample_size) * 2 + 1 # r\\in [1,3]\n",
    "X = np.random.randn(sample_size, 2) # 2 dimension data\n",
    "X = r.reshape(sample_size,-1) * X / np.linalg.norm(X,axis=1).reshape(sample_size,-1) \n",
    "\n",
    "X_tensor = torch.FloatTensor(X)\n",
    "r_tensor = torch.FloatTensor(r).reshape(-1,1)"
   ]
  },
  {
   "attachments": {},
   "cell_type": "markdown",
   "metadata": {},
   "source": [
    "# Define the diffusion model"
   ]
  },
  {
   "cell_type": "code",
   "execution_count": 4,
   "metadata": {},
   "outputs": [],
   "source": [
    "device = torch.device(\"cuda\" if torch.cuda.is_available() else \"cpu\")\n",
    "\n",
    "def index_iterator(device, data_len, batchsize = 32):\n",
    "    perm_idx = np.random.permutation(data_len)\n",
    "    num_steps = (data_len // batchsize) if (data_len % batchsize) == 0 else (data_len // batchsize) + 1\n",
    "    for ii in range(num_steps):\n",
    "        if ii < (num_steps - 1):\n",
    "            batch_idx = perm_idx[(ii*batchsize):(ii*batchsize+batchsize)]\n",
    "        else:\n",
    "            batch_idx = perm_idx[(ii*batchsize):]\n",
    "        \n",
    "        yield batch_idx\n",
    "\n",
    "class Diffusion_SDE(nn.Module):\n",
    "    def __init__(self, input_dim, cond_dim, time_emb_dim = 32, eps=1e-5, sigma = 100, scale = 9,block_layer =1, device=None):\n",
    "        super(Diffusion_SDE, self).__init__()\n",
    "        self.device = device\n",
    "        self.marginal_prob_std_fn = functools.partial(marginal_prob_std, sigma=sigma)\n",
    "        self.diffusion_coeff_fn = functools.partial(diffusion_coeff, sigma=sigma)\n",
    "        self.eps = eps\n",
    "        self.score_model = UNet_MLP(input_dim, cond_dim, self.marginal_prob_std_fn, time_emb_dim = time_emb_dim, scale = scale, block_layer = block_layer).to(device)\n",
    "        self.input_dim = input_dim\n",
    "\n",
    "    def forward(self, x0, cond):\n",
    "        random_t = torch.rand(x0.shape[0], device=self.device) * (1. - self.eps) + self.eps \n",
    "        z = torch.randn_like(x0)\n",
    "        std = self.marginal_prob_std_fn(random_t)\n",
    "        perturbed_x = x0 + z * std[:, None]\n",
    "        score = self.score_model(perturbed_x, cond, random_t) * std[:, None]\n",
    "        loss = torch.mean(torch.sum((score  + z)**2, dim=1))\n",
    "        \n",
    "        return loss\n",
    "    \n",
    "    def em_sampler(self, cond, num_steps=1000,eps=1e-3):\n",
    "        sample_size = cond.shape[0]\n",
    "        t = torch.ones(sample_size, device=self.device)\n",
    "        init_x = torch.randn((sample_size, self.input_dim), device=self.device) \\\n",
    "        * self.marginal_prob_std_fn(t)[:, None]\n",
    "        time_steps = torch.linspace(1., eps, num_steps, device=device)\n",
    "        step_size = time_steps[0] - time_steps[1]\n",
    "        x = init_x\n",
    "\n",
    "        with torch.no_grad():\n",
    "            for time_step in time_steps:      \n",
    "                batch_time_step = torch.ones(sample_size, device=device) * time_step\n",
    "                g = self.diffusion_coeff_fn(batch_time_step)\n",
    "                mean_x = x + (g**2)[:, None] * (self.score_model(x, cond, batch_time_step)) * step_size\n",
    "\n",
    "                x = mean_x + torch.sqrt(step_size) * g[:, None] * torch.randn_like(x)\n",
    "        return mean_x\n",
    "                \n",
    "class GaussianFourierProjection(nn.Module):\n",
    "    def __init__(self, embed_dim, scale=30.):\n",
    "        super().__init__()\n",
    "        # Randomly sample weights during initialization. These weights are fixed \n",
    "        # during optimization and are not trainable.\n",
    "        self.W = nn.Parameter(torch.randn(embed_dim // 2) * scale, requires_grad=False)\n",
    "    def forward(self, x):\n",
    "        x_proj = x[:, None] * self.W[None, :] * 2 * np.pi\n",
    "        return torch.cat([torch.sin(x_proj), torch.cos(x_proj)], dim=-1)\n",
    "\n",
    "class MyBlock(nn.Module):\n",
    "    def __init__(self, shape, out_c, block_layer):\n",
    "        super(MyBlock, self).__init__()\n",
    "        self.w1 = nn.Linear(shape, out_c)\n",
    "        self.block_layer = block_layer\n",
    "        for nl in range(2,self.block_layer+1):\n",
    "            setattr(self,\"w_\"+str(nl),nn.Linear(out_c,out_c))\n",
    "        self.activation = lambda x: x * torch.sigmoid(x)\n",
    "\n",
    "\n",
    "    def forward(self, x):\n",
    "        out = self.w1(x)\n",
    "        out = self.activation(out)\n",
    "        for nl in range(2,self.block_layer+1):\n",
    "            out = self.activation(getattr(self,\"w_\"+str(nl))(out))\n",
    "        return out\n",
    "\n",
    "\n",
    "def marginal_prob_std(t, sigma):\n",
    "    #t = torch.tensor(t, device=device)\n",
    "    return torch.sqrt((sigma**(2 * t) - 1.) / 2. / np.log(sigma))\n",
    "\n",
    "def diffusion_coeff(t, sigma):\n",
    "    return sigma**t\n",
    "  \n",
    "\n",
    "class UNet_MLP(nn.Module):\n",
    "    def __init__(self, input_dim, cond_dim, marginal_prob_std, time_emb_dim=32, scale = 4, block_layer = 1):\n",
    "        super(UNet_MLP, self).__init__()\n",
    "\n",
    "        # Sinusoidal embedding\n",
    "        self.act = lambda x: x * torch.sigmoid(x)\n",
    "        # Sinusoidal embedding\n",
    "        self.time_embed = nn.Sequential(GaussianFourierProjection(embed_dim=time_emb_dim),\n",
    "         nn.Linear(time_emb_dim, time_emb_dim))\n",
    "\n",
    "        \n",
    "        self.marginal_prob_std = marginal_prob_std\n",
    "        \n",
    "        self.input_dim = input_dim\n",
    "        \n",
    "        # First half\n",
    "        first_num = 2 ** scale\n",
    "        self.x_embed = MyBlock(input_dim,first_num,block_layer)\n",
    "        \n",
    "        self.te1 = self._make_emb(time_emb_dim, first_num)\n",
    "        self.ce1 = self._make_emb(cond_dim, first_num)\n",
    "        self.b1 = MyBlock(first_num, first_num,block_layer)\n",
    "\n",
    "        \n",
    "\n",
    "        second_num = first_num // 2\n",
    "        self.down1 = MyBlock(first_num,second_num,block_layer)\n",
    "        \n",
    "        self.te2 = self._make_emb(time_emb_dim, second_num)\n",
    "        self.ce2 = self._make_emb(cond_dim, second_num)\n",
    "        self.b2 = MyBlock(second_num,second_num,block_layer)\n",
    "    \n",
    "        \n",
    "        third_num = second_num // 2\n",
    "        self.down2 = MyBlock(second_num,third_num,block_layer)\n",
    "\n",
    "\n",
    "        # Bottleneck\n",
    "        self.te_mid = self._make_emb(time_emb_dim, third_num)\n",
    "        self.ce_mid = self._make_emb(cond_dim, third_num)\n",
    "        self.b_mid = MyBlock(third_num, third_num,block_layer)\n",
    "    \n",
    "\n",
    "        # Second half\n",
    "        self.up1 = MyBlock(third_num, second_num,block_layer)\n",
    "\n",
    "        self.te3 = self._make_emb(time_emb_dim, first_num)\n",
    "        self.ce3 = self._make_emb(cond_dim, first_num)\n",
    "        self.b3 = MyBlock(first_num, second_num,block_layer)\n",
    "\n",
    "        self.up2 = MyBlock(second_num, first_num,block_layer)\n",
    "        self.te4 = self._make_emb(time_emb_dim, first_num * 2)\n",
    "        self.ce4 = self._make_emb(cond_dim, first_num * 2)\n",
    "        self.b4 = MyBlock(first_num * 2, first_num,block_layer)\n",
    "        \n",
    "\n",
    "        self.final = nn.Linear(first_num, input_dim)\n",
    "\n",
    "    def forward(self, x0, xc, ti):\n",
    "        \n",
    "        t = self.act(self.time_embed(ti))\n",
    "        x = self.x_embed(x0)\n",
    "        \n",
    "        out1 = self.b1(x + self.te1(t) + self.ce1(xc))   # (N, first_num) \n",
    "        out2 = self.b2(self.down1(out1) + self.te2(t) + self.ce2(xc))    # (N, second_num)\n",
    "        out_mid = self.b_mid(self.down2(out2)+ self.te_mid(t) + self.ce_mid(xc))   # (N, third_num)\n",
    "\n",
    "        out3 = torch.cat((out2, self.up1(out_mid)), dim=1)  # (N, first_num)\n",
    "        out4 = self.b3(out3+ self.te3(t)+ self.ce3(xc))    # (N, second)\n",
    "\n",
    "        out5 = torch.cat((out1, self.up2(out4)), dim=1)  # (N, first_num * 2)\n",
    "        out6 = self.b4(out5+ self.te4(t)+ self.ce4(xc))    # (N, first_num)\n",
    "\n",
    "        out = self.final(out6) # (N, out)\n",
    "\n",
    "        return out / self.marginal_prob_std(ti)[:, None]\n",
    "\n",
    "    def _make_emb(self, dim_in, dim_out):\n",
    "        return nn.Linear(dim_in, dim_out)"
   ]
  },
  {
   "attachments": {},
   "cell_type": "markdown",
   "metadata": {},
   "source": [
    "# train the diffusion score model"
   ]
  },
  {
   "cell_type": "code",
   "execution_count": 5,
   "metadata": {},
   "outputs": [
    {
     "name": "stderr",
     "output_type": "stream",
     "text": [
      "  0%|          | 1/2000 [00:03<2:03:38,  3.71s/it, avg_loss=0.913]"
     ]
    },
    {
     "name": "stdout",
     "output_type": "stream",
     "text": [
      "save model\n"
     ]
    },
    {
     "name": "stderr",
     "output_type": "stream",
     "text": [
      "  5%|▌         | 101/2000 [04:53<1:31:10,  2.88s/it, avg_loss=0.523]"
     ]
    },
    {
     "name": "stdout",
     "output_type": "stream",
     "text": [
      "save model\n"
     ]
    },
    {
     "name": "stderr",
     "output_type": "stream",
     "text": [
      " 10%|█         | 201/2000 [09:50<1:28:50,  2.96s/it, avg_loss=0.507]"
     ]
    },
    {
     "name": "stdout",
     "output_type": "stream",
     "text": [
      "save model\n"
     ]
    },
    {
     "name": "stderr",
     "output_type": "stream",
     "text": [
      " 11%|█▏        | 226/2000 [11:05<1:30:37,  3.07s/it, avg_loss=0.505]"
     ]
    }
   ],
   "source": [
    "diffusion_process = Diffusion_SDE(input_dim = 2, cond_dim=1, scale = 9,block_layer=2, sigma = 100, device=device)\n",
    "\n",
    "# training \n",
    "batchsize = 128\n",
    "epoch = 2000\n",
    "lr = 5e-4\n",
    "optimizer = Adam(diffusion_process.parameters(), lr)\n",
    "steps = 0\n",
    "avg_loss = 0\n",
    "progress = tqdm(range(epoch))\n",
    "for ep in progress:\n",
    "    for batch_index in index_iterator(device, len(X_tensor), batchsize = 32):\n",
    "        optimizer.zero_grad()\n",
    "        steps +=1 \n",
    "        x0 = X_tensor[batch_index].cuda()\n",
    "        xc = r_tensor[batch_index].cuda()\n",
    "        loss = diffusion_process(x0, xc)\n",
    "        loss.backward()\n",
    "        optimizer.step()\n",
    "        avg_loss += loss.item()\n",
    "       \n",
    "    progress.set_postfix({\"avg_loss\":avg_loss/(steps+1)})\n",
    "    if ep % 100 == 0:     \n",
    "        torch.save(diffusion_process.state_dict(), \"model.pkl\")\n",
    "        print(\"save model\")"
   ]
  },
  {
   "attachments": {},
   "cell_type": "markdown",
   "metadata": {},
   "source": [
    "# sample from the diffusion model"
   ]
  },
  {
   "cell_type": "code",
   "execution_count": 35,
   "metadata": {},
   "outputs": [
    {
     "data": {
      "image/png": "[encoded data removed]",
      "text/plain": [
       "<Figure size 432x288 with 1 Axes>"
      ]
     },
     "metadata": {
      "needs_background": "light"
     },
     "output_type": "display_data"
    }
   ],
   "source": [
    "# generate the circle with radius 2.5\n",
    "x_gen1 = diffusion_process.em_sampler(torch.ones((100,1)).cuda()+1.5)\n",
    "x_gen1 = x_gen1.cpu()\n",
    "\n",
    "# generate the circle with radius 1.5\n",
    "x_gen2 = diffusion_process.em_sampler(torch.ones((100,1)).cuda()+0.5)\n",
    "x_gen2 = x_gen2.cpu()\n",
    "\n",
    "plt.plot(x_gen1[:,0],x_gen1[:,1],\".\")\n",
    "plt.plot(x_gen2[:,0],x_gen2[:,1],\".\")\n",
    "plt.show()"
   ]
  }
 ],
 "metadata": {
  "kernelspec": {
   "display_name": "diffussion",
   "language": "python",
   "name": "python3"
  },
  "language_info": {
   "codemirror_mode": {
    "name": "ipython",
    "version": 3
   },
   "file_extension": ".py",
   "mimetype": "text/x-python",
   "name": "python",
   "nbconvert_exporter": "python",
   "pygments_lexer": "ipython3",
   "version": "3.9.12"
  }
 },
 "nbformat": 4,
 "nbformat_minor": 4
}
